{
 "cells": [
  {
   "cell_type": "markdown",
   "id": "6b3395af-6887-4c97-980c-fafc2b52b517",
   "metadata": {},
   "source": [
    "This notebook shows the behavior of the implemented models using a largely reduced dataset (taking only 10 time step for demand data)."
   ]
  },
  {
   "cell_type": "code",
   "execution_count": 20,
   "id": "ad8107e3-84e0-4179-9d72-610c66c37ef6",
   "metadata": {},
   "outputs": [
    {
     "name": "stderr",
     "output_type": "stream",
     "text": [
      "WARNING: replacing module Simulation.\n",
      "WARNING: replacing module Utils.\n",
      "WARNING: replacing module Optimization.\n",
      "WARNING: using Optimization.perform_dcopf in module Main conflicts with an existing identifier.\n",
      "WARNING: using Optimization.perform_stochastic_dcopf in module Main conflicts with an existing identifier.\n",
      "WARNING: using Simulation.generate_scenarios in module Main conflicts with an existing identifier.\n"
     ]
    }
   ],
   "source": [
    "# Load modules\n",
    "include(\"../src/simulation.jl\")\n",
    "include(\"../src/utils.jl\")\n",
    "include(\"../src/optimization.jl\")\n",
    "using .Optimization\n",
    "using .Utils\n",
    "using .Simulation"
   ]
  },
  {
   "cell_type": "code",
   "execution_count": 2,
   "id": "c01c0518-5163-4bc0-bf2e-13d07442e403",
   "metadata": {},
   "outputs": [
    {
     "name": "stdout",
     "output_type": "stream",
     "text": [
      "Loading data from /home/esteban_nb/dirhw/mae573-term-project/data...\n",
      "\n",
      "----- Dataset Information -----\n",
      "\n",
      "Dataset: Bus\n",
      "  Rows: 120\n",
      "  Columns: 5\n",
      "  Column Names: [\"bus_id\", \"zone_id\", \"pd\", \"qd\", \"idx\"]\n",
      "\n",
      "Dataset: Branch\n",
      "  Rows: 738\n",
      "  Columns: 27\n",
      "  Column Names: [\"start_bus\", \"end_bus\", \"branch_id\", \"r\", \"x\", \"b\", \"ratea\", \"rateb\", \"ratec\", \"ratio\", \"angle\", \"status\", \"angmin\", \"angmax\", \"pf\", \"qf\", \"pt\", \"qt\", \"mu_sf\", \"mu_st\", \"mu_angmin\", \"mu_angmax\", \"branch_device_type\", \"interconnect\", \"sus\", \"start_idx\", \"end_idx\"]\n",
      "\n",
      "Dataset: Plant\n",
      "  Rows: 548\n",
      "  Columns: 33\n",
      "  Column Names: [\"plant_id\", \"bus_id\", \"pg\", \"qg\", \"qmax\", \"qmin\", \"vg\", \"mbase\", \"status\", \"pmax\", \"pmin\", \"pc1\", \"pc2\", \"qc1min\", \"qc1max\", \"qc2min\", \"qc2max\", \"ramp_agc\", \"ramp_10\", \"ramp_30\", \"ramp_q\", \"apf\", \"mu_pmax\", \"mu_pmin\", \"mu_qmax\", \"mu_qmin\", \"type\", \"interconnect\", \"genfuelcost\", \"geniob\", \"genioc\", \"geniod\", \"bus_idx\"]\n",
      "\n",
      "Dataset: Load\n",
      "  Rows: 10\n",
      "  Columns: 118\n",
      "  Column Names: [\"Date\", \"Time\", \"1079\", \"2002\", \"2011\", \"2021\", \"2054\", \"2096\", \"2101\", \"2113\", \"2127\", \"3048\", \"4195\", \"5015\", \"5018\", \"5021\", \"5033\", \"5045\", \"5047\", \"5049\", \"5055\", \"5063\", \"5083\", \"5102\", \"5120\", \"5131\", \"5137\", \"5164\", \"5179\", \"5192\", \"5196\", \"5204\", \"5239\", \"5260\", \"5279\", \"5295\", \"5304\", \"5317\", \"5322\", \"5350\", \"5358\", \"5361\", \"5380\", \"5384\", \"5388\", \"5394\", \"5401\", \"5410\", \"5413\", \"5444\", \"5448\", \"5451\", \"5464\", \"5479\", \"6003\", \"6021\", \"6033\", \"6038\", \"6045\", \"6056\", \"6062\", \"6066\", \"6075\", \"6101\", \"6107\", \"6118\", \"6141\", \"6169\", \"6197\", \"6210\", \"6228\", \"6234\", \"6239\", \"6254\", \"6292\", \"6298\", \"6333\", \"6342\", \"6349\", \"7002\", \"7018\", \"7037\", \"7042\", \"7047\", \"7058\", \"7076\", \"7095\", \"7104\", \"7125\", \"7130\", \"7159\", \"7175\", \"7186\", \"7199\", \"7204\", \"7227\", \"7263\", \"7304\", \"7320\", \"7331\", \"7341\", \"7346\", \"7366\", \"7389\", \"7400\", \"7406\", \"7422\", \"7428\", \"8030\", \"8043\", \"8057\", \"8067\", \"8074\", \"8082\", \"8112\", \"8126\", \"8155\", \"8158\"]\n",
      "\n",
      "Dataset: Gencost\n",
      "  Rows: 548\n",
      "  Columns: 9\n",
      "  Column Names: [\"plant_id\", \"type\", \"startup\", \"shutdown\", \"n\", \"c2\", \"c1\", \"c0\", \"interconnect\"]\n",
      "\n",
      "Number of unique buses: 120 (89 plants, 116 demand nodes)\n",
      "Number of unique plants: 548\n",
      "Number of unique branches: 738\n",
      "\n",
      "-------------------------------\n",
      "\n"
     ]
    },
    {
     "data": {
      "text/plain": [
       "Dict{String, DataFrames.DataFrame} with 5 entries:\n",
       "  \"branch\"  => \u001b[1m738×27 DataFrame\u001b[0m\u001b[0m…\n",
       "  \"load\"    => \u001b[1m10×118 DataFrame\u001b[0m\u001b[0m…\n",
       "  \"bus\"     => \u001b[1m120×5 DataFrame\u001b[0m\u001b[0m…\n",
       "  \"plant\"   => \u001b[1m548×33 DataFrame\u001b[0m\u001b[0m…\n",
       "  \"gencost\" => \u001b[1m548×9 DataFrame\u001b[0m\u001b[0m…"
      ]
     },
     "execution_count": 2,
     "metadata": {},
     "output_type": "execute_result"
    }
   ],
   "source": [
    "# Load data\n",
    "data_dir = \"/home/esteban_nb/dirhw/mae573-term-project/data\"\n",
    "data = Utils.load_data(data_dir, shrink=true)"
   ]
  },
  {
   "cell_type": "code",
   "execution_count": 3,
   "id": "2a82add5-9bbe-4f44-aa0a-69c9353a17b5",
   "metadata": {},
   "outputs": [
    {
     "name": "stdout",
     "output_type": "stream",
     "text": [
      "Executing simple DCOPF...\n",
      "\n",
      "Set parameter WLSAccessID\n",
      "Set parameter WLSSecret\n",
      "Set parameter LicenseID to value 2575217\n",
      "Academic license 2575217 - for non-commercial use only - registered to en___@princeton.edu\n",
      "Gurobi Optimizer version 12.0.0 build v12.0.0rc1 (linux64 - \"Ubuntu 22.04.5 LTS\")\n",
      "\n",
      "CPU model: Intel(R) Core(TM) i5-6300U CPU @ 2.40GHz, instruction set [SSE2|AVX|AVX2]\n",
      "Thread count: 2 physical cores, 4 logical processors, using up to 4 threads\n",
      "\n",
      "Academic license 2575217 - for non-commercial use only - registered to en___@princeton.edu\n",
      "Optimize a model with 23934 rows, 19540 columns and 73078 nonzeros\n",
      "Model fingerprint: 0x24f289e5\n",
      "Model has 4130 quadratic objective terms\n",
      "Coefficient statistics:\n",
      "  Matrix range     [1e+00, 1e+03]\n",
      "  Objective range  [7e+00, 4e+01]\n",
      "  QObjective range [2e-03, 4e-03]\n",
      "  Bounds range     [4e-01, 1e+03]\n",
      "  RHS range        [3e-01, 4e+03]\n",
      "Presolve removed 19187 rows and 14359 columns\n",
      "Presolve time: 0.05s\n",
      "Presolved: 4747 rows, 8898 columns, 24131 nonzeros\n",
      "Presolved model has 4130 quadratic objective terms\n",
      "Ordering time: 0.07s\n",
      "\n",
      "Barrier statistics:\n",
      " Free vars  : 1020\n",
      " AA' NZ     : 2.483e+04\n",
      " Factor NZ  : 2.399e+05 (roughly 7 MB of memory)\n",
      " Factor Ops : 4.451e+07 (less than 1 second per iteration)\n",
      " Threads    : 2\n",
      "\n",
      "                  Objective                Residual\n",
      "Iter       Primal          Dual         Primal    Dual     Compl     Time\n",
      "   0   2.97470911e+09 -1.60862263e+09  4.27e+04 6.25e+02  3.58e+06     0s\n",
      "   1   5.24205331e+07 -1.86629395e+08  1.02e+03 1.49e+01  9.74e+04     0s\n",
      "   2   2.65017642e+07 -1.59821314e+08  3.36e+02 4.92e+00  3.89e+04     0s\n",
      "   3   1.38212625e+07 -9.04968646e+07  1.83e+01 2.68e-01  7.91e+03     0s\n",
      "   4   1.32808829e+07 -4.12735134e+07  5.37e+00 7.86e-02  3.74e+03     0s\n",
      "   5   1.28875488e+07 -1.21195777e+07  2.11e+00 3.09e-02  1.65e+03     0s\n",
      "   6   1.22318029e+07 -7.96871746e+06  1.39e+00 2.04e-02  1.32e+03     0s\n",
      "   7   1.13477786e+07  1.99044467e+06  5.63e-01 8.23e-03  6.03e+02     0s\n",
      "   8   1.11033122e+07  3.65721291e+06  4.21e-01 6.16e-03  4.78e+02     0s\n",
      "   9   1.07134962e+07  6.02794505e+06  2.31e-01 3.38e-03  2.99e+02     0s\n",
      "  10   1.02552380e+07  8.72571756e+06  5.79e-02 8.47e-04  9.73e+01     0s\n",
      "  11   1.01865388e+07  9.24049398e+06  3.18e-02 4.65e-04  6.01e+01     0s\n",
      "  12   1.01839654e+07  9.41757876e+06  2.32e-02 3.40e-04  4.87e+01     0s\n",
      "  13   1.01797758e+07  9.44119386e+06  2.24e-02 3.27e-04  4.69e+01     0s\n",
      "  14   1.01737446e+07  9.47588874e+06  2.11e-02 3.09e-04  4.43e+01     0s\n",
      "  15   1.01594044e+07  9.55862877e+06  1.60e-02 2.34e-04  3.81e+01     0s\n",
      "  16   1.01542776e+07  9.57083090e+06  1.52e-02 2.22e-04  3.70e+01     0s\n",
      "  17   1.01452689e+07  9.61464192e+06  1.29e-02 1.88e-04  3.37e+01     0s\n",
      "  18   1.01442929e+07  9.62414996e+06  1.26e-02 1.84e-04  3.30e+01     0s\n",
      "  19   1.01448085e+07  9.64447828e+06  1.17e-02 1.72e-04  3.18e+01     0s\n",
      "  20   1.01258444e+07  9.76331071e+06  5.99e-03 8.76e-05  2.30e+01     0s\n",
      "  21   1.01182268e+07  9.97710216e+06  1.57e-04 1.40e-05  8.96e+00     0s\n",
      "  22   1.00970651e+07  1.00491762e+07  1.76e-06 4.70e-07  3.04e+00     0s\n",
      "  23   1.00923933e+07  1.00733048e+07  4.56e-07 1.21e-07  1.21e+00     0s\n",
      "  24   1.00904877e+07  1.00820330e+07  1.62e-07 4.26e-08  5.37e-01     0s\n",
      "  25   1.00892936e+07  1.00867338e+07  2.73e-08 6.99e-09  1.62e-01     0s\n",
      "  26   1.00889105e+07  1.00880750e+07  3.38e-09 8.00e-10  5.30e-02     0s\n",
      "  27   1.00887435e+07  1.00885778e+07  3.41e-10 8.00e-11  1.05e-02     0s\n",
      "  28   1.00887094e+07  1.00886789e+07  5.03e-11 1.66e-11  1.94e-03     0s\n",
      "  29   1.00887021e+07  1.00887006e+07  1.17e-10 1.22e-10  9.37e-05     0s\n",
      "  30   1.00887017e+07  1.00887017e+07  3.56e-10 1.45e-09  6.81e-07     0s\n",
      "  31   1.00887017e+07  1.00887017e+07  2.95e-10 1.82e-09  2.62e-09     0s\n",
      "\n",
      "Barrier solved model in 31 iterations and 0.34 seconds (0.23 work units)\n",
      "Optimal objective 1.00887017e+07\n",
      "\n",
      "\n",
      "User-callback calls 261, time in user-callback 0.01 sec\n",
      "Model solved to optimality.\n"
     ]
    },
    {
     "data": {
      "text/plain": [
       "(generation = \u001b[1m548×2 DataFrame\u001b[0m\n",
       "\u001b[1m Row \u001b[0m│\u001b[1m plant \u001b[0m\u001b[1m total_generation \u001b[0m\n",
       "     │\u001b[90m Int64 \u001b[0m\u001b[90m Float64          \u001b[0m\n",
       "─────┼─────────────────────────\n",
       "   1 │     1           2110.0\n",
       "   2 │     2            343.0\n",
       "   3 │     3            825.0\n",
       "   4 │     4            100.0\n",
       "   5 │     5           1995.0\n",
       "   6 │     6           1800.0\n",
       "   7 │     7           1242.0\n",
       "   8 │     8           2780.0\n",
       "   9 │     9            900.0\n",
       "  10 │    10           1475.0\n",
       "  11 │    11           1219.0\n",
       "  ⋮  │   ⋮           ⋮\n",
       " 539 │   539           3100.46\n",
       " 540 │   540           3100.46\n",
       " 541 │   541           3100.46\n",
       " 542 │   542             12.0\n",
       " 543 │   543            717.9\n",
       " 544 │   544             66.0\n",
       " 545 │   545            523.8\n",
       " 546 │   546            523.8\n",
       " 547 │   547            315.0\n",
       " 548 │   548            294.6\n",
       "\u001b[36m               527 rows omitted\u001b[0m, angles = \u001b[1m120×2 DataFrame\u001b[0m\n",
       "\u001b[1m Row \u001b[0m│\u001b[1m bus   \u001b[0m\u001b[1m average_angle \u001b[0m\n",
       "     │\u001b[90m Int64 \u001b[0m\u001b[90m Float64       \u001b[0m\n",
       "─────┼──────────────────────\n",
       "   1 │     1        0.0\n",
       "   2 │     2       33.5551\n",
       "   3 │     3       -7.53936\n",
       "   4 │     4       -6.92334\n",
       "   5 │     5       34.1903\n",
       "   6 │     6       18.7537\n",
       "   7 │     7       -4.51336\n",
       "   8 │     8       33.7218\n",
       "   9 │     9       34.0971\n",
       "  10 │    10       -5.28598\n",
       "  11 │    11        5.58234\n",
       "  ⋮  │   ⋮          ⋮\n",
       " 111 │   111       46.1746\n",
       " 112 │   112       35.2108\n",
       " 113 │   113       35.5054\n",
       " 114 │   114       34.5504\n",
       " 115 │   115       37.9966\n",
       " 116 │   116       37.3786\n",
       " 117 │   117       35.6036\n",
       " 118 │   118       34.4117\n",
       " 119 │   119       37.937\n",
       " 120 │   120       45.1242\n",
       "\u001b[36m             99 rows omitted\u001b[0m, flows = \u001b[1m738×2 DataFrame\u001b[0m\n",
       "\u001b[1m Row \u001b[0m│\u001b[1m branch \u001b[0m\u001b[1m total_flow \u001b[0m\n",
       "     │\u001b[90m Int64  \u001b[0m\u001b[90m Float64    \u001b[0m\n",
       "─────┼────────────────────\n",
       "   1 │      1  -1538.68\n",
       "   2 │      2   -930.391\n",
       "   3 │      3   -679.944\n",
       "   4 │      4   -410.466\n",
       "   5 │      5  -3241.78\n",
       "   6 │      6   -324.706\n",
       "   7 │      7   -370.585\n",
       "   8 │      8   -431.202\n",
       "   9 │      9   -352.487\n",
       "  10 │     10   -627.23\n",
       "  11 │     11   -586.381\n",
       "  ⋮  │   ⋮         ⋮\n",
       " 729 │    729  -1389.49\n",
       " 730 │    730     57.2126\n",
       " 731 │    731    464.708\n",
       " 732 │    732   -293.142\n",
       " 733 │    733    144.801\n",
       " 734 │    734   -632.886\n",
       " 735 │    735   1656.79\n",
       " 736 │    736    359.364\n",
       " 737 │    737  -1620.94\n",
       " 738 │    738  -1250.46\n",
       "\u001b[36m          717 rows omitted\u001b[0m, prices = \u001b[1m120×2 DataFrame\u001b[0m\n",
       "\u001b[1m Row \u001b[0m│\u001b[1m bus   \u001b[0m\u001b[1m average_price \u001b[0m\n",
       "     │\u001b[90m Int64 \u001b[0m\u001b[90m Float64       \u001b[0m\n",
       "─────┼──────────────────────\n",
       "   1 │     1        19.4428\n",
       "   2 │     2        19.4428\n",
       "   3 │     3        19.4428\n",
       "   4 │     4        19.4428\n",
       "   5 │     5        19.4428\n",
       "   6 │     6        19.4428\n",
       "   7 │     7        19.4428\n",
       "   8 │     8        19.4428\n",
       "   9 │     9        19.4428\n",
       "  10 │    10        19.4428\n",
       "  11 │    11        19.4428\n",
       "  ⋮  │   ⋮          ⋮\n",
       " 111 │   111        19.4428\n",
       " 112 │   112        19.4428\n",
       " 113 │   113        19.4428\n",
       " 114 │   114        19.4428\n",
       " 115 │   115        19.4428\n",
       " 116 │   116        19.4428\n",
       " 117 │   117        19.4428\n",
       " 118 │   118        19.4428\n",
       " 119 │   119        19.4428\n",
       " 120 │   120        19.4428\n",
       "\u001b[36m             99 rows omitted\u001b[0m, cost = 1.0088701707481675e7, status = MathOptInterface.OPTIMAL)"
      ]
     },
     "execution_count": 3,
     "metadata": {},
     "output_type": "execute_result"
    }
   ],
   "source": [
    "# Simple DCOPF\n",
    "using JuMP\n",
    "\n",
    "println(\"Executing simple DCOPF...\\n\")\n",
    "results = Optimization.perform_dcopf(data)"
   ]
  },
  {
   "cell_type": "code",
   "execution_count": 4,
   "id": "60753197-4e5c-4385-9f9a-1ffccacaa510",
   "metadata": {},
   "outputs": [
    {
     "data": {
      "text/plain": [
       "10-element Vector{Float64}:\n",
       " 0.1\n",
       " 0.1\n",
       " 0.1\n",
       " 0.1\n",
       " 0.1\n",
       " 0.1\n",
       " 0.1\n",
       " 0.1\n",
       " 0.1\n",
       " 0.1"
      ]
     },
     "execution_count": 4,
     "metadata": {},
     "output_type": "execute_result"
    }
   ],
   "source": [
    "num_scenarios = 10\n",
    "scenarios = Simulation.generate_scenarios(data, num_scenarios, 0.1, 0.1)\n",
    "probabilities = fill(1/num_scenarios, num_scenarios)"
   ]
  },
  {
   "cell_type": "code",
   "execution_count": 21,
   "id": "bacaa4be-4a8d-490c-b6b6-872b094dc8a1",
   "metadata": {},
   "outputs": [
    {
     "name": "stdout",
     "output_type": "stream",
     "text": [
      "Hey!\n"
     ]
    },
    {
     "name": "stderr",
     "output_type": "stream",
     "text": [
      "WARNING: replacing module Optimization.\n",
      "WARNING: using Optimization.perform_dcopf in module Main conflicts with an existing identifier.\n",
      "WARNING: using Optimization.perform_stochastic_dcopf in module Main conflicts with an existing identifier.\n"
     ]
    },
    {
     "ename": "LoadError",
     "evalue": "KeyError: key \"slack_bus\" not found",
     "output_type": "error",
     "traceback": [
      "KeyError: key \"slack_bus\" not found",
      "",
      "Stacktrace:",
      " [1] getindex",
      "   @ ./dict.jl:477 [inlined]",
      " [2] perform_stochastic_dcopf(data::Dict{String, DataFrames.DataFrame}, scenarios::Vector{Dict}, probabilities::Vector{Float64})",
      "   @ Main.Optimization ~/dirhw/mae573-term-project/src/optimization.jl:278",
      " [3] top-level scope",
      "   @ In[21]:4"
     ]
    }
   ],
   "source": [
    "include(\"../src/optimization.jl\")\n",
    "using .Optimization\n",
    "\n",
    "# should have a unique set of decision that is minimimzing the objective\n",
    "# whereas with heuristics you do take different actions in different scenarios and you take the most taken\n",
    "model = Optimization.perform_stochastic_dcopf(data, scenarios, probabilities)"
   ]
  }
 ],
 "metadata": {
  "kernelspec": {
   "display_name": "Julia 1.11.1",
   "language": "julia",
   "name": "julia-1.11"
  },
  "language_info": {
   "file_extension": ".jl",
   "mimetype": "application/julia",
   "name": "julia",
   "version": "1.11.1"
  }
 },
 "nbformat": 4,
 "nbformat_minor": 5
}
