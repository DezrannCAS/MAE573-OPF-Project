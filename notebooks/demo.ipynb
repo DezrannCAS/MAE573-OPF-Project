{
 "cells": [
  {
   "cell_type": "markdown",
   "id": "6b3395af-6887-4c97-980c-fafc2b52b517",
   "metadata": {},
   "source": [
    "This notebook shows the behavior of the implemented models using a largely reduced dataset (taking only 10 time step for demand data)."
   ]
  },
  {
   "cell_type": "code",
   "execution_count": 21,
   "id": "ad8107e3-84e0-4179-9d72-610c66c37ef6",
   "metadata": {},
   "outputs": [
    {
     "name": "stderr",
     "output_type": "stream",
     "text": [
      "WARNING: replacing module Simulation.\n",
      "WARNING: replacing module Utils.\n",
      "WARNING: replacing module OptNet.\n",
      "WARNING: replacing module DCOPF.\n"
     ]
    }
   ],
   "source": [
    "# Load modules\n",
    "include(\"../src/simulation.jl\")\n",
    "include(\"../src/heuristics.jl\")\n",
    "include(\"../src/utils.jl\")\n",
    "include(\"../src/topology_optimization.jl\")\n",
    "include(\"../src/optimization.jl\")\n",
    "\n",
    "using .DCOPF\n",
    "using .Utils\n",
    "using .OptNet"
   ]
  },
  {
   "cell_type": "code",
   "execution_count": 9,
   "id": "c01c0518-5163-4bc0-bf2e-13d07442e403",
   "metadata": {},
   "outputs": [
    {
     "name": "stdout",
     "output_type": "stream",
     "text": [
      "Loading data from /home/esteban_nb/dirhw/mae573-term-project/data...\n",
      "\n",
      "----- Dataset Information -----\n",
      "\n",
      "Dataset: Bus\n",
      "  Rows: 120\n",
      "  Columns: 5\n",
      "  Column Names: [\"bus_id\", \"zone_id\", \"pd\", \"qd\", \"idx\"]\n",
      "\n",
      "Dataset: Branch\n",
      "  Rows: 738\n",
      "  Columns: 27\n",
      "  Column Names: [\"start_bus\", \"end_bus\", \"branch_id\", \"r\", \"x\", \"b\", \"ratea\", \"rateb\", \"ratec\", \"ratio\", \"angle\", \"status\", \"angmin\", \"angmax\", \"pf\", \"qf\", \"pt\", \"qt\", \"mu_sf\", \"mu_st\", \"mu_angmin\", \"mu_angmax\", \"branch_device_type\", \"interconnect\", \"sus\", \"start_idx\", \"end_idx\"]\n",
      "\n",
      "Dataset: Plant\n",
      "  Rows: 548\n",
      "  Columns: 33\n",
      "  Column Names: [\"plant_id\", \"bus_id\", \"pg\", \"qg\", \"qmax\", \"qmin\", \"vg\", \"mbase\", \"status\", \"pmax\", \"pmin\", \"pc1\", \"pc2\", \"qc1min\", \"qc1max\", \"qc2min\", \"qc2max\", \"ramp_agc\", \"ramp_10\", \"ramp_30\", \"ramp_q\", \"apf\", \"mu_pmax\", \"mu_pmin\", \"mu_qmax\", \"mu_qmin\", \"type\", \"interconnect\", \"genfuelcost\", \"geniob\", \"genioc\", \"geniod\", \"bus_idx\"]\n",
      "\n",
      "Dataset: Load\n",
      "  Rows: 10\n",
      "  Columns: 118\n",
      "  Column Names: [\"Date\", \"Time\", \"1079\", \"2002\", \"2011\", \"2021\", \"2054\", \"2096\", \"2101\", \"2113\", \"2127\", \"3048\", \"4195\", \"5015\", \"5018\", \"5021\", \"5033\", \"5045\", \"5047\", \"5049\", \"5055\", \"5063\", \"5083\", \"5102\", \"5120\", \"5131\", \"5137\", \"5164\", \"5179\", \"5192\", \"5196\", \"5204\", \"5239\", \"5260\", \"5279\", \"5295\", \"5304\", \"5317\", \"5322\", \"5350\", \"5358\", \"5361\", \"5380\", \"5384\", \"5388\", \"5394\", \"5401\", \"5410\", \"5413\", \"5444\", \"5448\", \"5451\", \"5464\", \"5479\", \"6003\", \"6021\", \"6033\", \"6038\", \"6045\", \"6056\", \"6062\", \"6066\", \"6075\", \"6101\", \"6107\", \"6118\", \"6141\", \"6169\", \"6197\", \"6210\", \"6228\", \"6234\", \"6239\", \"6254\", \"6292\", \"6298\", \"6333\", \"6342\", \"6349\", \"7002\", \"7018\", \"7037\", \"7042\", \"7047\", \"7058\", \"7076\", \"7095\", \"7104\", \"7125\", \"7130\", \"7159\", \"7175\", \"7186\", \"7199\", \"7204\", \"7227\", \"7263\", \"7304\", \"7320\", \"7331\", \"7341\", \"7346\", \"7366\", \"7389\", \"7400\", \"7406\", \"7422\", \"7428\", \"8030\", \"8043\", \"8057\", \"8067\", \"8074\", \"8082\", \"8112\", \"8126\", \"8155\", \"8158\"]\n",
      "\n",
      "Dataset: Gencost\n",
      "  Rows: 548\n",
      "  Columns: 9\n",
      "  Column Names: [\"plant_id\", \"type\", \"startup\", \"shutdown\", \"n\", \"c2\", \"c1\", \"c0\", \"interconnect\"]\n",
      "\n",
      "Number of unique buses: 120 (89 plants, 116 demand nodes)\n",
      "Number of unique plants: 548\n",
      "Number of unique branches: 738\n",
      "\n",
      "-------------------------------\n",
      "\n"
     ]
    },
    {
     "data": {
      "text/plain": [
       "Dict{String, DataFrame} with 5 entries:\n",
       "  \"branch\"  => \u001b[1m738×27 DataFrame\u001b[0m\u001b[0m…\n",
       "  \"load\"    => \u001b[1m10×118 DataFrame\u001b[0m\u001b[0m…\n",
       "  \"bus\"     => \u001b[1m120×5 DataFrame\u001b[0m\u001b[0m…\n",
       "  \"plant\"   => \u001b[1m548×33 DataFrame\u001b[0m\u001b[0m…\n",
       "  \"gencost\" => \u001b[1m548×9 DataFrame\u001b[0m\u001b[0m…"
      ]
     },
     "execution_count": 9,
     "metadata": {},
     "output_type": "execute_result"
    }
   ],
   "source": [
    "# Load data\n",
    "data_dir = \"/home/esteban_nb/dirhw/mae573-term-project/data\"\n",
    "output_dir = \"/home/esteban_nb/dirhw/mae573-term-project/output\"\n",
    "\n",
    "data = Utils.load_data(data_dir, shrink=true)"
   ]
  },
  {
   "cell_type": "code",
   "execution_count": 10,
   "id": "2a82add5-9bbe-4f44-aa0a-69c9353a17b5",
   "metadata": {},
   "outputs": [
    {
     "name": "stdout",
     "output_type": "stream",
     "text": [
      "Executing simple DCOPF...\n",
      "\n",
      "Set parameter WLSAccessID\n",
      "Set parameter WLSSecret\n",
      "Set parameter LicenseID to value 2575217\n",
      "Academic license 2575217 - for non-commercial use only - registered to en___@princeton.edu\n",
      "Gurobi Optimizer version 12.0.0 build v12.0.0rc1 (linux64 - \"Ubuntu 22.04.5 LTS\")\n",
      "\n",
      "CPU model: Intel(R) Core(TM) i5-6300U CPU @ 2.40GHz, instruction set [SSE2|AVX|AVX2]\n",
      "Thread count: 2 physical cores, 4 logical processors, using up to 4 threads\n",
      "\n",
      "Academic license 2575217 - for non-commercial use only - registered to en___@princeton.edu\n",
      "Optimize a model with 23934 rows, 19540 columns and 73078 nonzeros\n",
      "Model fingerprint: 0xe28f8cec\n",
      "Coefficient statistics:\n",
      "  Matrix range     [1e+00, 1e+03]\n",
      "  Objective range  [7e+00, 4e+01]\n",
      "  Bounds range     [4e-01, 1e+03]\n",
      "  RHS range        [3e-01, 4e+03]\n",
      "Presolve removed 19187 rows and 14359 columns\n",
      "Presolve time: 0.07s\n",
      "Presolved: 4747 rows, 8898 columns, 24131 nonzeros\n",
      "\n",
      "Concurrent LP optimizer: dual simplex and barrier\n",
      "Showing barrier log only...\n",
      "\n",
      "Ordering time: 0.04s\n",
      "\n",
      "Barrier performed 0 iterations in 0.15 seconds (0.06 work units)\n",
      "Barrier solve interrupted - model solved by another algorithm\n",
      "\n",
      "\n",
      "Solved with dual simplex\n",
      "Iteration    Objective       Primal Inf.    Dual Inf.      Time\n",
      "    1149    6.1793608e+06   0.000000e+00   0.000000e+00      0s\n",
      "\n",
      "Use crossover to convert LP symmetric solution to basic solution...\n",
      "Crossover log...\n",
      "\n",
      "       0 DPushes remaining with DInf 0.0000000e+00                 0s\n",
      "\n",
      "      35 PPushes remaining with PInf 0.0000000e+00                 0s\n",
      "       0 PPushes remaining with PInf 0.0000000e+00                 0s\n",
      "\n",
      "  Push phase complete: Pinf 0.0000000e+00, Dinf 6.5055872e-10      0s\n",
      "\n",
      "Iteration    Objective       Primal Inf.    Dual Inf.      Time\n",
      "    1201    6.1793608e+06   0.000000e+00   0.000000e+00      0s\n",
      "\n",
      "Solved in 1201 iterations and 0.23 seconds (0.12 work units)\n",
      "Optimal objective  6.179360829e+06\n",
      "\n",
      "User-callback calls 240, time in user-callback 0.01 sec\n",
      "Model solved to optimality.\n",
      "Execution time: 18.532955117 seconds\n"
     ]
    }
   ],
   "source": [
    "println(\"Executing simple DCOPF...\\n\")\n",
    "execution_time = @elapsed results = DCOPF.perform_optimization(data)\n",
    "println(\"Execution time: $execution_time seconds\")"
   ]
  },
  {
   "cell_type": "code",
   "execution_count": 11,
   "id": "54820cc2-bc7a-41bd-adfa-06f5e36dba58",
   "metadata": {},
   "outputs": [
    {
     "data": {
      "text/plain": [
       "load_clean_data (generic function with 1 method)"
      ]
     },
     "execution_count": 11,
     "metadata": {},
     "output_type": "execute_result"
    }
   ],
   "source": [
    "function load_clean_data()\n",
    "    clean_data_dir = joinpath(data_dir, \"newdata\")\n",
    "    \n",
    "    bus = CSV.read(joinpath(clean_data_dir, \"bus.csv\"), DataFrame)\n",
    "    branch = CSV.read(joinpath(clean_data_dir, \"branch.csv\"), DataFrame)\n",
    "    plant = CSV.read(joinpath(clean_data_dir, \"plant.csv\"), DataFrame)\n",
    "    load = CSV.read(joinpath(clean_data_dir, \"load.csv\"), DataFrame)\n",
    "    gencost = CSV.read(joinpath(clean_data_dir, \"gencost.csv\"), DataFrame)\n",
    "\n",
    "    return Dict(\n",
    "        \"bus\" => bus,\n",
    "        \"branch\" => branch,\n",
    "        \"plant\" => plant,\n",
    "        \"load\" => load,\n",
    "        \"gencost\" => gencost\n",
    "    )\n",
    "end"
   ]
  },
  {
   "cell_type": "code",
   "execution_count": null,
   "id": "001339aa-fa67-4cf3-b23c-0ea156970420",
   "metadata": {},
   "outputs": [
    {
     "name": "stdout",
     "output_type": "stream",
     "text": [
      "Set parameter WLSAccessID\n",
      "Set parameter WLSSecret\n",
      "Set parameter LicenseID to value 2575217\n",
      "Academic license 2575217 - for non-commercial use only - registered to en___@princeton.edu\n",
      "Hey! 1Hey! 2"
     ]
    },
    {
     "name": "stderr",
     "output_type": "stream",
     "text": [
      "WARNING: replacing module OptNet.\n"
     ]
    }
   ],
   "source": [
    "include(\"../src/topology_optimization.jl\")\n",
    "using .OptNet\n",
    "\n",
    "clean_data = load_clean_data()\n",
    "num_scenarios = 10 \n",
    "\n",
    "scenarios = [Dict(\"line_failure_prob\" => 0.05) for _ in 1:num_scenarios]\n",
    "probabilities = fill(1/num_scenarios, num_scenarios)\n",
    "\n",
    "# max modifs should be at least over line_failure_prob * num_lines (470)\n",
    "results = OptNet.optimize_network(clean_data, scenarios, probabilities, 25)"
   ]
  },
  {
   "cell_type": "code",
   "execution_count": 6,
   "id": "60753197-4e5c-4385-9f9a-1ffccacaa510",
   "metadata": {},
   "outputs": [
    {
     "ename": "LoadError",
     "evalue": "UndefVarError: `DCOPF` not defined in `Main`\nSuggestion: check for spelling errors or missing imports.",
     "output_type": "error",
     "traceback": [
      "UndefVarError: `DCOPF` not defined in `Main`\nSuggestion: check for spelling errors or missing imports.",
      "",
      "Stacktrace:",
      " [1] assess_criticality(clean_data::Dict{String, DataFrame})",
      "   @ Main ~/dirhw/mae573-term-project/src/heuristics.jl:26",
      " [2] top-level scope",
      "   @ In[6]:3"
     ]
    }
   ],
   "source": [
    "# Criticality assessment\n",
    "# clean_data = load_clean_data()\n",
    "# results = assess_criticality(clean_data)\n",
    "\n",
    "# sorted_results = sort(results_df, :cost_after_removal)\n",
    "\n",
    "# output_file = joinpath(output_dir, \"sorted_results.csv\")\n",
    "# CSV.write(output_file, sorted_results)[1]\n",
    "\n",
    "# plot(sorted_results.line, sorted_results.cost_after_removal, \n",
    "#      xlabel=\"Branch Line\", ylabel=\"Cost After Removal\", \n",
    "#      title=\"Criticality of Nodes\", \n",
    "#      label=\"Cost After Removal\", \n",
    "#      marker=:circle, \n",
    "#      legend=:topright)\n",
    "# fig_path = joinpath(output_dir, \"fig/criticality_plot.png\")\n",
    "# savefig(fig_path)"
   ]
  }
 ],
 "metadata": {
  "kernelspec": {
   "display_name": "Julia 1.11.1",
   "language": "julia",
   "name": "julia-1.11"
  },
  "language_info": {
   "file_extension": ".jl",
   "mimetype": "application/julia",
   "name": "julia",
   "version": "1.11.1"
  }
 },
 "nbformat": 4,
 "nbformat_minor": 5
}
